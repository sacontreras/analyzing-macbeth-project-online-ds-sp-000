{
 "cells": [
  {
   "cell_type": "markdown",
   "metadata": {},
   "source": [
    "# Project: Analyzing Macbeth\n",
    "\n",
    "## Introduction\n",
    "For our first day and first data science project, we're going to do some rudimentry analysis of Shakespeare's classic play: Macbeth! You will get practice working with lists, condtionals and dictionaries, visualizing data, and thinking analytically about data.\n",
    "\n",
    "## Objectives\n",
    "You will be able to:\n",
    "* Show mastery of the content covered in this section\n",
    "\n",
    "## Getting the Data\n",
    "Here we start by importing a python package and using it to pull the transcript of Macbeth from the project Gutenberg website. We also preview a few details about what is now stored in the variable macbeth; it's a string with 119,846 characters, the first 500 of which are printed below. "
   ]
  },
  {
   "cell_type": "code",
   "execution_count": 60,
   "metadata": {},
   "outputs": [
    {
     "name": "stdout",
     "output_type": "stream",
     "text": [
      "<class 'str'>\n",
      "120253\n",
      "﻿\r\n",
      "\r\n",
      "***The Project Gutenberg's Etext of Shakespeare's First Folio***\r\n",
      "********************The Tragedie of Macbeth*********************\r\n",
      "\r\n",
      "\r\n",
      "\r\n",
      "*******************************************************************\r\n",
      "THIS EBOOK WAS ONE OF PROJECT GUTENBERG'S EARLY FILES PRODUCED AT A\r\n",
      "TIME WHEN PROOFING METHODS AND TOOLS WERE NOT WELL DEVELOPED. THERE\r\n",
      "IS AN IMPROVED EDITION OF THIS TITLE WHICH MAY BE VIEWED AS EBOOK\r\n",
      "(#1533) at https://www.gutenberg.org/ebooks/1533\r\n",
      "*********************************\n"
     ]
    }
   ],
   "source": [
    "import requests\n",
    "macbeth = requests.get('http://www.gutenberg.org/cache/epub/2264/pg2264.txt').text\n",
    "\n",
    "print(type(macbeth))\n",
    "print(len(macbeth))\n",
    "print(macbeth[:500])"
   ]
  },
  {
   "cell_type": "markdown",
   "metadata": {},
   "source": [
    "## Your Task\n",
    "\n",
    "Your task is to create a bar graph of the 25 most common words in Shakespeare's Macbeth.  \n",
    "\n",
    "\n",
    "A common python programming pattern to counting objects, produce histograms, or update statistics is to make calls to a dictionary as you iterate through a list. For example, given a list of words, you can create a dictionary to store counts and then iterate through the list of words, checking how many times each word has appeared using your dictionary, and updating the dictionary count now that you've seen that word again. The `dictionary.get()` method is very useful in doing this. Read the docstring for the dictionary.get() method and use it along with the pseudocode above to create a bar graph of the 25 most common words from the transcript of Macbeth which has been loaded into a variable 'Macbeth'. Be sure to include a title and appropriate labels for your graph."
   ]
  },
  {
   "cell_type": "code",
   "execution_count": 80,
   "metadata": {},
   "outputs": [
    {
     "data": {
      "image/png": "[encoded data removed]",
      "text/plain": [
       "<Figure size 720x432 with 1 Axes>"
      ]
     },
     "metadata": {
      "needs_background": "light"
     },
     "output_type": "display_data"
    }
   ],
   "source": [
    "# Your code here\n",
    "\n",
    "# Pseudo-code Outline\n",
    "# Split the transcript into words\n",
    "# Create a dictionary\n",
    "# Iterate through the text of Macbeth\n",
    "# Update word counts\n",
    "\n",
    "# general approach is to locate word boundaries.\n",
    "# in this case a word boundary is simply a space\n",
    "# but, the form in which we receive the text\n",
    "# contains non-alphabetic characters which we\n",
    "# need to normalize non-space, non-alphanumeric\n",
    "# characters as spaces.\n",
    "# when we encounter a string of non-alphanumeric\n",
    "# characters, we treat the entire string as a\n",
    "# single delimiter (word boundary)\n",
    "\n",
    "# loop through each character in the macbeth list.\n",
    "# let's use regular expressions in order to easily\n",
    "# match alphanumeric (valid) characters.\n",
    "# any non-alphanumeric (string) shall be considered\n",
    "# a word delimiter.\n",
    "# whenever we encounter the end of a word - that is\n",
    "# when we encounter a word delimiter when the last\n",
    "# character was a valid word-character, we increment\n",
    "# the count, held in a dictionary, for that word.\n",
    "\n",
    "import re\n",
    "alphabet = \"abcdefghijklmnopqrstuvwxyz\"\n",
    "numbers = \"0123456789\"\n",
    "alphanumericpattern = \"[\" + alphabet + numbers + \"]\"\n",
    "inword = False #used to track state of new/closing word boundaries\n",
    "\n",
    "wordmap = dict()\n",
    "\n",
    "#I use the following to skip over all of the words\n",
    "#which are not actually part of the manuscript\n",
    "#after some experimentation, that index of the very\n",
    "#first character following all of that is 16671\n",
    "start_offset = 16671\n",
    "\n",
    "for index, character in enumerate(macbeth[start_offset:]):\n",
    "    lcase = character.lower()\n",
    "    #special-handling: treat single-quote/apostrophe as empty string and skip\n",
    "    if lcase == \"'\" or lcase == \"`\":\n",
    "        #the following print statement is for debugging only\n",
    "        #print(\"macbeth[{}]: \\\"{}\\\" has no effect on parsing... SKIPPING\".format(index, character))\n",
    "        continue\n",
    "        \n",
    "    #use the regex to determine whether we have a delimiter or word-character\n",
    "    match_alphanumberic = re.match(alphanumericpattern, lcase, 0)\n",
    "    \n",
    "    if match_alphanumberic:\n",
    "        if not inword: # then we have a new word\n",
    "            inword = True\n",
    "            word = \"\"\n",
    "    else:\n",
    "        if inword: # then, as this is a non-alphanmeric character but we previously \"inword\", we have just completed a word\n",
    "            #first get count for this word (if it exists)\n",
    "            count = wordmap.get(word)\n",
    "            \n",
    "            if count: #then this entry exists, so increment its count\n",
    "                count += 1\n",
    "            else: #then this entry does not exist, so set its initial count to 1\n",
    "                count = 1\n",
    "                \n",
    "            #now update the current count for this word\n",
    "            wordmap[word] = count\n",
    "            \n",
    "            #the following print statement is for debugging only\n",
    "            #print(\"UPDATE \\\"{}\\\" count to: {}\".format(word, str(count)))\n",
    "            \n",
    "            #don't forget to reset inword to False to demark word boundary (closure)\n",
    "            inword = False\n",
    "            \n",
    "    #process word boundary\n",
    "    if inword: #then we need to append the lowercase version of this character\n",
    "        word += lcase\n",
    "    \n",
    "    #the following print statement is for debugging only\n",
    "    #print(\"macbeth[{}]: \\\"{}\\\"{}\".format(index, character, \" word: {}\".format(word) if inword else \"\"))\n",
    "\n",
    "#the following print statement is for debugging only\n",
    "#print(wordmap)\n",
    "\n",
    "sortedwordmapentrylist = sorted(wordmap.items(), key=lambda wordmapentry: wordmapentry[1], reverse=True)\n",
    "#print(\"The top 25 most frequently occurring words are:\\n{}\".format(sortedwordcountlist[:25]))\n",
    "\n",
    "# Create Bar Graph\n",
    "# Import matplotlib\n",
    "import matplotlib.pyplot as plt\n",
    "\n",
    "# Set plot space as inline for inline plots and qt for external plots\n",
    "%matplotlib inline\n",
    "\n",
    "plt.figure(figsize=(10,20))\n",
    "\n",
    "x_vals = []\n",
    "y_vals = []\n",
    "\n",
    "top_n = 25\n",
    "for wordmapentry in sortedwordmapentrylist[:top_n]:\n",
    "    x_vals.append(wordmapentry[0])\n",
    "    y_vals.append(wordmapentry[1])\n",
    "\n",
    "# Use bar() function to create a plot using above values on both x and y co-ordinates. Add a label.\n",
    "plt.bar(x_vals, y_vals, label='Frequency')\n",
    "\n",
    "# Include descriptive titles and labels\n",
    "plt.xlabel('Words')\n",
    "plt.ylabel('Word counts')\n",
    "\n",
    "plt.title(\"Top {} words occurring in Macbeth\".format(str(top_n)))\n",
    "plt.legend()\n",
    "\n",
    "plt.show()"
   ]
  },
  {
   "cell_type": "markdown",
   "metadata": {},
   "source": [
    "## Level Up (Optional)\n",
    "This project should take you about an hour and a half to complete. If you're done much more quickly than that and are not behind in the course, feel free to deepen your knowledge by completing any or all of the following tasks until you run out of time:\n",
    "* Create a list of top characters by mentions of their names \n",
    "* Split the text by which character is talking\n",
    "* Create subgraphs of the most common words by character\n",
    "* Reduce the string to the text of the play itself. (Remove any initial notes, forward, introduction, appendix, etc.)\n",
    "* Come up with some other fun analyses of the text!\n",
    "\n",
    "## Summary\n",
    "Congratulations! You've got some extra practice combining various data types into useful programming patterns and done an initial analysis of a classic text!"
   ]
  }
 ],
 "metadata": {
  "kernelspec": {
   "display_name": "Python 3",
   "language": "python",
   "name": "python3"
  },
  "language_info": {
   "codemirror_mode": {
    "name": "ipython",
    "version": 3
   },
   "file_extension": ".py",
   "mimetype": "text/x-python",
   "name": "python",
   "nbconvert_exporter": "python",
   "pygments_lexer": "ipython3",
   "version": "3.7.3"
  }
 },
 "nbformat": 4,
 "nbformat_minor": 2
}
